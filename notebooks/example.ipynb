{
 "cells": [
  {
   "cell_type": "code",
   "execution_count": 1,
   "id": "5ea609e9",
   "metadata": {},
   "outputs": [],
   "source": [
    "from QUACQ.core import Variable,Relation, Target_Network, Bais\n",
    "from QUACQ.acquisition import QuAcq"
   ]
  },
  {
   "cell_type": "code",
   "execution_count": 7,
   "id": "13d4802d",
   "metadata": {},
   "outputs": [],
   "source": [
    "variables=[Variable(f\"x{i}\",domain=[0,10] ) for i in range(5)]\n",
    "relations={\n",
    "    \"==\": Relation(\"==\",2,False),\n",
    "    \"!=\": Relation(\"!=\",2,False),\n",
    "    \"<\": Relation(\"<\",2,True),\n",
    "}"
   ]
  },
  {
   "cell_type": "code",
   "execution_count": 8,
   "id": "e9e6527e",
   "metadata": {},
   "outputs": [
    {
     "name": "stdout",
     "output_type": "stream",
     "text": [
      "example of variable:  name:x0 | domain:[0, 10]\n",
      "example of relation:  relation: <\n"
     ]
    }
   ],
   "source": [
    "print(\"example of variable: \",variables[0])\n",
    "print(\"example of relation: \",relations[\"<\"])"
   ]
  },
  {
   "cell_type": "markdown",
   "id": "612eb7ee",
   "metadata": {},
   "source": [
    "Suppose the user has the following implicit constraints in mind:\n",
    "\n",
    "x1 != x2 and\n",
    "\n",
    "x2 < x3 and\n",
    "\n",
    "x3 == x4\n"
   ]
  },
  {
   "cell_type": "code",
   "execution_count": 9,
   "id": "4e9c00e8",
   "metadata": {},
   "outputs": [
    {
     "name": "stderr",
     "output_type": "stream",
     "text": [
      "Size of B:   0%|          | 0/40 [00:00<?, ?constraints/s]"
     ]
    },
    {
     "name": "stdout",
     "output_type": "stream",
     "text": [
      "Is the example valid? (yes/no):\n",
      "Example: {'x0': 1, 'x1': 1, 'x2': 0, 'x3': 1, 'x4': 0}\n",
      "Is the example valid? (yes/no):\n",
      "Example: {'x0': 1, 'x2': 0}\n",
      "Is the example valid? (yes/no):\n",
      "Example: {'x0': 1, 'x2': 0, 'x3': 1}\n",
      "Is the example valid? (yes/no):\n",
      "Example: {'x0': 1, 'x2': 0, 'x3': 1, 'x4': 0}\n",
      "Is the example valid? (yes/no):\n",
      "Example: {'x0': 1, 'x2': 0, 'x4': 0}\n",
      "Is the example valid? (yes/no):\n",
      "Example: {'x0': 1, 'x4': 0}\n",
      "Is the example valid? (yes/no):\n",
      "Example: {'x4': 10, 'x2': 9}\n",
      "Is the example valid? (yes/no):\n",
      "Example: {'x4': 0, 'x2': 10}\n"
     ]
    },
    {
     "name": "stderr",
     "output_type": "stream",
     "text": [
      "Size of B:  32%|███▎      | 13/40 [03:15<06:45, 15.03s/constraints]"
     ]
    },
    {
     "name": "stdout",
     "output_type": "stream",
     "text": [
      "Is the example valid? (yes/no):\n",
      "Example: {'x0': 0, 'x1': 0, 'x2': 0, 'x3': 0, 'x4': 1}\n",
      "Is the example valid? (yes/no):\n",
      "Example: {'x0': 0, 'x2': 0}\n",
      "Is the example valid? (yes/no):\n",
      "Example: {'x0': 0, 'x2': 0, 'x3': 0}\n",
      "Is the example valid? (yes/no):\n",
      "Example: {'x3': 0, 'x2': 10}\n"
     ]
    },
    {
     "name": "stderr",
     "output_type": "stream",
     "text": [
      "Size of B:  42%|████▎     | 17/40 [04:15<05:45, 15.03s/constraints]"
     ]
    },
    {
     "name": "stdout",
     "output_type": "stream",
     "text": [
      "Is the example valid? (yes/no):\n",
      "Example: {'x0': 0, 'x1': 0, 'x2': 0, 'x3': 1, 'x4': 1}\n",
      "Is the example valid? (yes/no):\n",
      "Example: {'x0': 0, 'x2': 0, 'x3': 1}\n",
      "Is the example valid? (yes/no):\n",
      "Example: {'x0': 0, 'x2': 0, 'x3': 1, 'x4': 1}\n",
      "Is the example valid? (yes/no):\n",
      "Example: {'x0': 0, 'x1': 0, 'x2': 0, 'x3': 1}\n",
      "Is the example valid? (yes/no):\n",
      "Example: {'x0': 0, 'x1': 0, 'x2': 0}\n",
      "Is the example valid? (yes/no):\n",
      "Example: {'x0': 0, 'x1': 0}\n",
      "Is the example valid? (yes/no):\n",
      "Example: {'x1': 10, 'x2': 9}\n",
      "Is the example valid? (yes/no):\n",
      "Example: {'x1': 0, 'x2': 10}\n"
     ]
    },
    {
     "name": "stderr",
     "output_type": "stream",
     "text": [
      "Size of B:  72%|███████▎  | 29/40 [05:49<02:12, 12.05s/constraints]"
     ]
    },
    {
     "name": "stdout",
     "output_type": "stream",
     "text": [
      "Is the example valid? (yes/no):\n",
      "Example: {'x0': 1, 'x1': 1, 'x2': 0, 'x3': 1, 'x4': 1}\n"
     ]
    },
    {
     "name": "stderr",
     "output_type": "stream",
     "text": [
      "Size of B:  90%|█████████ | 36/40 [06:08<00:40, 10.24s/constraints]"
     ]
    },
    {
     "name": "stdout",
     "output_type": "stream",
     "text": [
      "Is the example valid? (yes/no):\n",
      "Example: {'x0': 2, 'x1': 2, 'x2': 0, 'x3': 2, 'x4': 1}\n",
      "Is the example valid? (yes/no):\n",
      "Example: {'x0': 2, 'x2': 0, 'x3': 2, 'x4': 1}\n",
      "Is the example valid? (yes/no):\n",
      "Example: {'x3': 2, 'x4': 1}\n"
     ]
    },
    {
     "name": "stderr",
     "output_type": "stream",
     "text": [
      "Size of B:  92%|█████████▎| 37/40 [06:50<00:33, 11.10s/constraints]"
     ]
    },
    {
     "name": "stdout",
     "output_type": "stream",
     "text": [
      "Is the example valid? (yes/no):\n",
      "Example: {'x0': 1, 'x1': 1, 'x2': 0, 'x3': 2, 'x4': 2}\n"
     ]
    },
    {
     "name": "stderr",
     "output_type": "stream",
     "text": [
      "Size of B:  98%|█████████▊| 39/40 [07:11<00:11, 11.05s/constraints]\n"
     ]
    }
   ],
   "source": [
    "target_network=Target_Network(mode=\"human\")\n",
    "bais=Bais(variables=variables, Language=relations.values())\n",
    "L=QuAcq(\n",
    "    variables=variables,\n",
    "    B=bais,\n",
    "    target_network=target_network,\n",
    ")"
   ]
  },
  {
   "cell_type": "code",
   "execution_count": 10,
   "id": "fd29c557",
   "metadata": {},
   "outputs": [
    {
     "name": "stdout",
     "output_type": "stream",
     "text": [
      "relation: < ## name:x2 | domain:[0, 10] && name:x4 | domain:[0, 10]\n",
      "relation: < ## name:x2 | domain:[0, 10] && name:x3 | domain:[0, 10]\n",
      "relation: != ## name:x1 | domain:[0, 10] && name:x2 | domain:[0, 10]\n",
      "relation: == ## name:x3 | domain:[0, 10] && name:x4 | domain:[0, 10]\n"
     ]
    }
   ],
   "source": [
    "for conj in L:\n",
    "    for c in conj:\n",
    "        print(c)"
   ]
  },
  {
   "cell_type": "markdown",
   "id": "1f215dce",
   "metadata": {},
   "source": [
    "quacq algo learned these constraints\n",
    "\n",
    "\n",
    "x1 != x2 and\n",
    "\n",
    "x2 < x3 and\n",
    "\n",
    "x2 < x4 and\n",
    "\n",
    "x3 == x4\n",
    "\n",
    "\n",
    "wich are equivalent to \n",
    "\n",
    "\n",
    "\n",
    "x1 != x2 and\n",
    "\n",
    "x2 < x3 and\n",
    "\n",
    "x3 == x4\n"
   ]
  }
 ],
 "metadata": {
  "kernelspec": {
   "display_name": ".venv",
   "language": "python",
   "name": "python3"
  },
  "language_info": {
   "codemirror_mode": {
    "name": "ipython",
    "version": 3
   },
   "file_extension": ".py",
   "mimetype": "text/x-python",
   "name": "python",
   "nbconvert_exporter": "python",
   "pygments_lexer": "ipython3",
   "version": "3.11.12"
  }
 },
 "nbformat": 4,
 "nbformat_minor": 5
}
