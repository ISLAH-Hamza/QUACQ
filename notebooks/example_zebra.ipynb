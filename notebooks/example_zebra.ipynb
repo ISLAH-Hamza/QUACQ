{
 "cells": [
  {
   "cell_type": "markdown",
   "id": "789f4f21",
   "metadata": {},
   "source": [
    "# Using QUACQ to Acquire zebra puzzle & solve it "
   ]
  },
  {
   "cell_type": "code",
   "execution_count": 1,
   "id": "ad5f23dd",
   "metadata": {},
   "outputs": [],
   "source": [
    "from QUACQ.core import Variable,Relation, Target_Network, Bais\n",
    "from QUACQ.acquisition import QuAcq, Solve\n",
    "from benchmarks.zebra import Model"
   ]
  },
  {
   "cell_type": "code",
   "execution_count": 2,
   "id": "8ee5a9c7",
   "metadata": {},
   "outputs": [
    {
     "name": "stderr",
     "output_type": "stream",
     "text": [
      "Size of B:   0%|          | 0/1550 [00:00<?, ?constraints/s]"
     ]
    },
    {
     "name": "stderr",
     "output_type": "stream",
     "text": [
      "Size of B:  94%|█████████▍| 1454/1550 [00:58<00:03, 25.01constraints/s]\n"
     ]
    }
   ],
   "source": [
    "zebra_puzzle=Model()\n",
    "target_network=Target_Network(zebra_puzzle.constraints)\n",
    "\n",
    "L=QuAcq(zebra_puzzle.bais,variables=zebra_puzzle.variables,target_network=target_network)"
   ]
  },
  {
   "cell_type": "code",
   "execution_count": 4,
   "id": "63a28f26",
   "metadata": {},
   "outputs": [
    {
     "name": "stdout",
     "output_type": "stream",
     "text": [
      "relation: ==val | params: 2  ## name:9 | domain:[0, 4]\n",
      "relation: != ## name:13 | domain:[0, 4] && name:0 | domain:[0, 4]\n",
      "relation: != ## name:13 | domain:[0, 4] && name:11 | domain:[0, 4]\n",
      "relation: != ## name:0 | domain:[0, 4] && name:11 | domain:[0, 4]\n",
      "relation: != ## name:19 | domain:[0, 4] && name:7 | domain:[0, 4]\n",
      "relation: >= ## name:0 | domain:[0, 4] && name:22 | domain:[0, 4]\n",
      "relation: == ## name:0 | domain:[0, 4] && name:22 | domain:[0, 4]\n",
      "relation: != ## name:22 | domain:[0, 4] && name:7 | domain:[0, 4]\n",
      "relation: != ## name:19 | domain:[0, 4] && name:22 | domain:[0, 4]\n",
      "relation: != ## name:12 | domain:[0, 4] && name:2 | domain:[0, 4]\n",
      "relation: != ## name:9 | domain:[0, 4] && name:2 | domain:[0, 4]\n",
      "relation: != ## name:9 | domain:[0, 4] && name:12 | domain:[0, 4]\n",
      "relation: != ## name:15 | domain:[0, 4] && name:20 | domain:[0, 4]\n",
      "relation: != ## name:21 | domain:[0, 4] && name:2 | domain:[0, 4]\n",
      "relation: != ## name:21 | domain:[0, 4] && name:12 | domain:[0, 4]\n",
      "relation: ||==val | params: 1  ## name:8 | domain:[0, 4] && name:20 | domain:[0, 4]\n",
      "relation: != ## name:21 | domain:[0, 4] && name:9 | domain:[0, 4]\n",
      "relation: != ## name:8 | domain:[0, 4] && name:15 | domain:[0, 4]\n",
      "relation: >= ## name:15 | domain:[0, 4] && name:4 | domain:[0, 4]\n",
      "relation: == ## name:15 | domain:[0, 4] && name:4 | domain:[0, 4]\n",
      "relation: != ## name:4 | domain:[0, 4] && name:19 | domain:[0, 4]\n",
      "relation: != ## name:4 | domain:[0, 4] && name:22 | domain:[0, 4]\n",
      "relation: >= ## name:2 | domain:[0, 4] && name:8 | domain:[0, 4]\n",
      "relation: ==val | params: 1  ## name:24 | domain:[0, 4]\n",
      "relation: != ## name:4 | domain:[0, 4] && name:7 | domain:[0, 4]\n",
      "relation: != ## name:3 | domain:[0, 4] && name:11 | domain:[0, 4]\n",
      "relation: != ## name:3 | domain:[0, 4] && name:13 | domain:[0, 4]\n",
      "relation: >= ## name:8 | domain:[0, 4] && name:21 | domain:[0, 4]\n",
      "relation: == ## name:8 | domain:[0, 4] && name:21 | domain:[0, 4]\n",
      "relation: >= ## name:22 | domain:[0, 4] && name:8 | domain:[0, 4]\n",
      "relation: != ## name:20 | domain:[0, 4] && name:4 | domain:[0, 4]\n",
      "relation: ||==val | params: 1  ## name:20 | domain:[0, 4] && name:4 | domain:[0, 4]\n",
      "relation: != ## name:3 | domain:[0, 4] && name:0 | domain:[0, 4]\n",
      "relation: ||==val | params: 1  ## name:3 | domain:[0, 4] && name:7 | domain:[0, 4]\n",
      "relation: != ## name:18 | domain:[0, 4] && name:8 | domain:[0, 4]\n",
      "relation: != ## name:18 | domain:[0, 4] && name:14 | domain:[0, 4]\n",
      "relation: != ## name:24 | domain:[0, 4] && name:10 | domain:[0, 4]\n",
      "relation: != ## name:18 | domain:[0, 4] && name:20 | domain:[0, 4]\n",
      "relation: != ## name:18 | domain:[0, 4] && name:15 | domain:[0, 4]\n",
      "relation: != ## name:14 | domain:[0, 4] && name:8 | domain:[0, 4]\n",
      "relation: ||==val | params: 1  ## name:24 | domain:[0, 4] && name:18 | domain:[0, 4]\n",
      "relation: != ## name:14 | domain:[0, 4] && name:20 | domain:[0, 4]\n",
      "relation: != ## name:14 | domain:[0, 4] && name:15 | domain:[0, 4]\n",
      "relation: != ## name:6 | domain:[0, 4] && name:10 | domain:[0, 4]\n",
      "relation: != ## name:24 | domain:[0, 4] && name:6 | domain:[0, 4]\n",
      "relation: == ## name:6 | domain:[0, 4] && name:14 | domain:[0, 4]\n",
      "relation: != ## name:23 | domain:[0, 4] && name:7 | domain:[0, 4]\n",
      "relation: != ## name:19 | domain:[0, 4] && name:23 | domain:[0, 4]\n",
      "relation: != ## name:1 | domain:[0, 4] && name:10 | domain:[0, 4]\n",
      "relation: != ## name:24 | domain:[0, 4] && name:1 | domain:[0, 4]\n",
      "relation: >= ## name:12 | domain:[0, 4] && name:23 | domain:[0, 4]\n",
      "relation: == ## name:12 | domain:[0, 4] && name:23 | domain:[0, 4]\n",
      "relation: != ## name:12 | domain:[0, 4] && name:4 | domain:[0, 4]\n",
      "relation: >= ## name:1 | domain:[0, 4] && name:13 | domain:[0, 4]\n",
      "relation: == ## name:1 | domain:[0, 4] && name:13 | domain:[0, 4]\n",
      "relation: != ## name:13 | domain:[0, 4] && name:5 | domain:[0, 4]\n",
      "relation: != ## name:0 | domain:[0, 4] && name:5 | domain:[0, 4]\n",
      "relation: != ## name:5 | domain:[0, 4] && name:11 | domain:[0, 4]\n",
      "relation: ||==val | params: 1  ## name:5 | domain:[0, 4] && name:4 | domain:[0, 4]\n",
      "relation: != ## name:3 | domain:[0, 4] && name:5 | domain:[0, 4]\n",
      "relation: != ## name:17 | domain:[0, 4] && name:12 | domain:[0, 4]\n",
      "relation: == ## name:10 | domain:[0, 4] && name:17 | domain:[0, 4]\n",
      "relation: != ## name:9 | domain:[0, 4] && name:17 | domain:[0, 4]\n",
      "relation: != ## name:22 | domain:[0, 4] && name:23 | domain:[0, 4]\n",
      "relation: != ## name:6 | domain:[0, 4] && name:1 | domain:[0, 4]\n",
      "relation: != ## name:17 | domain:[0, 4] && name:2 | domain:[0, 4]\n",
      "relation: != ## name:10 | domain:[0, 4] && name:16 | domain:[0, 4]\n",
      "relation: >= ## name:16 | domain:[0, 4] && name:19 | domain:[0, 4]\n",
      "relation: == ## name:16 | domain:[0, 4] && name:19 | domain:[0, 4]\n",
      "relation: != ## name:24 | domain:[0, 4] && name:16 | domain:[0, 4]\n",
      "relation: != ## name:6 | domain:[0, 4] && name:16 | domain:[0, 4]\n",
      "relation: != ## name:1 | domain:[0, 4] && name:16 | domain:[0, 4]\n"
     ]
    }
   ],
   "source": [
    "for conj in L:\n",
    "    for c in conj:\n",
    "        print(c)"
   ]
  },
  {
   "cell_type": "code",
   "execution_count": 8,
   "id": "5639f130",
   "metadata": {},
   "outputs": [
    {
     "data": {
      "text/plain": [
       "{'24': 1,\n",
       " '6': 4,\n",
       " '1': 0,\n",
       " '10': 3,\n",
       " '16': 2,\n",
       " '18': 0,\n",
       " '14': 4,\n",
       " '8': 1,\n",
       " '15': 3,\n",
       " '20': 2,\n",
       " '21': 1,\n",
       " '9': 2,\n",
       " '17': 3,\n",
       " '12': 0,\n",
       " '2': 4,\n",
       " '3': 3,\n",
       " '13': 0,\n",
       " '0': 1,\n",
       " '5': 2,\n",
       " '11': 4,\n",
       " '4': 3,\n",
       " '19': 2,\n",
       " '22': 1,\n",
       " '23': 0,\n",
       " '7': 4}"
      ]
     },
     "execution_count": 8,
     "metadata": {},
     "output_type": "execute_result"
    }
   ],
   "source": [
    "solution=Solve(L,zebra_puzzle.variables)\n",
    "solution"
   ]
  }
 ],
 "metadata": {
  "kernelspec": {
   "display_name": ".venv",
   "language": "python",
   "name": "python3"
  },
  "language_info": {
   "codemirror_mode": {
    "name": "ipython",
    "version": 3
   },
   "file_extension": ".py",
   "mimetype": "text/x-python",
   "name": "python",
   "nbconvert_exporter": "python",
   "pygments_lexer": "ipython3",
   "version": "3.11.12"
  }
 },
 "nbformat": 4,
 "nbformat_minor": 5
}
